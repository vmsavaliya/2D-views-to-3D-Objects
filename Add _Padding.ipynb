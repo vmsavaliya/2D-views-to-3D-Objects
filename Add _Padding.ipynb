{
 "cells": [
  {
   "cell_type": "code",
   "execution_count": 7,
   "metadata": {},
   "outputs": [],
   "source": [
    "import cv2\n",
    "import matplotlib.pyplot as plt\n",
    "import numpy as np"
   ]
  },
  {
   "cell_type": "code",
   "execution_count": 7,
   "metadata": {},
   "outputs": [
    {
     "name": "stdout",
     "output_type": "stream",
     "text": [
      "Read image size (58, 136, 4)\n",
      "Old Size is (58, 136)\n",
      "New Size is (58, 137)\n"
     ]
    }
   ],
   "source": [
    "desired_size = 137\n",
    "im_pth = \"segmented.png\"\n",
    "\n",
    "im = cv2.imread(im_pth, cv2.IMREAD_UNCHANGED)\n",
    "print(\"Read image size {}\".format(im.shape))\n",
    "\n",
    "old_size = im.shape[:2] # old_size is in (height, width) format\n",
    "print(\"Old Size is {}\".format(old_size))\n",
    "\n",
    "ratio = float(desired_size)/max(old_size)\n",
    "new_size = tuple([int(x*ratio) for x in old_size])\n",
    "\n",
    "print(\"New Size is {}\".format(new_size))\n",
    "\n",
    "# new_size should be in (width, height) format\n",
    "\n",
    "im = cv2.resize(im, (new_size[1], new_size[0]))\n",
    "\n",
    "delta_w = desired_size - new_size[1]\n",
    "delta_h = desired_size - new_size[0]\n",
    "top, bottom = delta_h//2, delta_h-(delta_h//2)\n",
    "left, right = delta_w//2, delta_w-(delta_w//2)\n",
    "\n",
    "color = [0, 0, 0]\n",
    "new_im = cv2.copyMakeBorder(im, top, bottom, left, right, cv2.BORDER_CONSTANT,\n",
    "    value=color)"
   ]
  },
  {
   "cell_type": "code",
   "execution_count": 8,
   "metadata": {},
   "outputs": [
    {
     "data": {
      "text/plain": [
       "<matplotlib.image.AxesImage at 0x7f245b5c7e10>"
      ]
     },
     "execution_count": 8,
     "metadata": {},
     "output_type": "execute_result"
    },
    {
     "data": {
      "image/png": "[encoded data removed]",
      "text/plain": [
       "<Figure size 432x288 with 1 Axes>"
      ]
     },
     "metadata": {
      "needs_background": "light"
     },
     "output_type": "display_data"
    }
   ],
   "source": [
    "plt.imshow(new_im)"
   ]
  },
  {
   "cell_type": "code",
   "execution_count": 9,
   "metadata": {},
   "outputs": [
    {
     "data": {
      "text/plain": [
       "True"
      ]
     },
     "execution_count": 9,
     "metadata": {},
     "output_type": "execute_result"
    }
   ],
   "source": [
    "cv2.imwrite('padded.png', new_im)"
   ]
  },
  {
   "cell_type": "code",
   "execution_count": 1,
   "metadata": {},
   "outputs": [],
   "source": [
    "filename = '/home/sidroy/Insight/projects/Pix2Vox/LargeDatasets/ShapeNetRendering/02691156/1a04e3eab45ca15dd86060f189eb133/rendering/00.png'"
   ]
  },
  {
   "cell_type": "code",
   "execution_count": 4,
   "metadata": {},
   "outputs": [],
   "source": [
    "im = cv2.imread(filename, cv2.IMREAD_UNCHANGED)"
   ]
  },
  {
   "cell_type": "code",
   "execution_count": 14,
   "metadata": {},
   "outputs": [
    {
     "name": "stdout",
     "output_type": "stream",
     "text": [
      "minimum value in image is 255 and maximum value in image is 0\n",
      "mean value of image is 22.985481378869412\n"
     ]
    }
   ],
   "source": [
    "max_val = np.amax(im)\n",
    "min_val = np.amin(im)\n",
    "mean_val = np.mean(im)\n",
    "print(\"minimum value in image is {} and maximum value in image is {}\".format(max_val,min_val))\n",
    "print(\"mean value of image is {}\".format(mean_val))"
   ]
  },
  {
   "cell_type": "code",
   "execution_count": null,
   "metadata": {},
   "outputs": [],
   "source": []
  }
 ],
 "metadata": {
  "kernelspec": {
   "display_name": "Python 3",
   "language": "python",
   "name": "python3"
  },
  "language_info": {
   "codemirror_mode": {
    "name": "ipython",
    "version": 3
   },
   "file_extension": ".py",
   "mimetype": "text/x-python",
   "name": "python",
   "nbconvert_exporter": "python",
   "pygments_lexer": "ipython3",
   "version": "3.7.4"
  }
 },
 "nbformat": 4,
 "nbformat_minor": 2
}
